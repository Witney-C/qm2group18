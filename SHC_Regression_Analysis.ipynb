{
  "nbformat": 4,
  "nbformat_minor": 0,
  "metadata": {
    "colab": {
      "name": "SHC Regression Analysis.ipynb",
      "provenance": [],
      "collapsed_sections": [],
      "authorship_tag": "ABX9TyNYLppL8KV9HJ/hyqbPhM3a",
      "include_colab_link": true
    },
    "kernelspec": {
      "name": "python3",
      "display_name": "Python 3"
    },
    "language_info": {
      "name": "python"
    }
  },
  "cells": [
    {
      "cell_type": "markdown",
      "metadata": {
        "id": "view-in-github",
        "colab_type": "text"
      },
      "source": [
        "<a href=\"https://colab.research.google.com/github/Witney-C/qm2group18/blob/main/SHC_Regression_Analysis.ipynb\" target=\"_parent\"><img src=\"https://colab.research.google.com/assets/colab-badge.svg\" alt=\"Open In Colab\"/></a>"
      ]
    },
    {
      "cell_type": "markdown",
      "source": [
        "## **Please save a copy of this in your own google drive before making changes.**\n",
        "## **'File' then 'save a copy in drive'. Thanks!!**"
      ],
      "metadata": {
        "id": "Rcvsz11CshJj"
      }
    },
    {
      "cell_type": "markdown",
      "source": [
        "# Step 1: Make data file and import data as an excel '.csv' file."
      ],
      "metadata": {
        "id": "YRJH9rl1AyvM"
      }
    },
    {
      "cell_type": "code",
      "source": [
        "#this creates a file you can see by clicking on the file icon on left of google colab\n",
        "\n",
        "!mkdir data\n",
        "!mkdir plots\n",
        "\n",
        "#import your excel csv into this file, by clicking three verticle dots and then 'upload'\n",
        "#or import from github, etc.\n",
        "\n",
        "#The data file must be two columns of numbers, the x values and y values.\n",
        "#X-values are Independent variables, therefore our factors such as religiosity, GDP, election results\n",
        "#Y-values are Dependent variables, therefore clinic distribution\n",
        "\n",
        "#Use the interquartile range test from QM last year/boxplot to see if there are any outliers, remove if you like\n",
        "#Make sure data is clean and has no NaN/blank spaces"
      ],
      "metadata": {
        "colab": {
          "base_uri": "https://localhost:8080/"
        },
        "id": "ODULjoeVCXrN",
        "outputId": "64133948-ea2f-4613-af79-824c926948fd"
      },
      "execution_count": 10,
      "outputs": [
        {
          "output_type": "stream",
          "name": "stdout",
          "text": [
            "mkdir: cannot create directory ‘data’: File exists\n"
          ]
        }
      ]
    },
    {
      "cell_type": "markdown",
      "source": [
        "# Step 2: Read imported csv file as a pandas DataFrame and save this as an object"
      ],
      "metadata": {
        "id": "5di9d4a0A7s6"
      }
    },
    {
      "cell_type": "code",
      "source": [
        "import pandas as pd\n",
        "\n",
        "#replace red file name by clicking three vertical dots next to your uploaded csv file on the left, then 'copy path'\n",
        "#paste over red file name\n",
        "\n",
        "data = pd.read_csv(\"/content/data/population_regression_data.csv\")\n",
        "\n",
        "#rename the column headers to 'x-values' and 'y-values'. \n",
        "#This hopefully makes sure this code can be used with a different csv file each time\n",
        "#replace 'vaccine cover' and 'infant mortality' with the original column headers of your chosen dataset\n",
        "\n",
        "df = data.rename(columns={'vaccine cover': 'x-values', 'infant mortality': 'y-values'})\n",
        "\n",
        "#check the data looks ok, and how many columns there are, and the data type etc. (should be int/float)\n",
        "#check that the column headers are now 'x-values' and 'y-values'\n",
        "\n",
        "df.head()"
      ],
      "metadata": {
        "colab": {
          "base_uri": "https://localhost:8080/",
          "height": 206
        },
        "id": "8pcVgd4nDj6L",
        "outputId": "5c635bcd-b53f-4ed5-e71d-6970f600d267"
      },
      "execution_count": 3,
      "outputs": [
        {
          "output_type": "execute_result",
          "data": {
            "text/html": [
              "\n",
              "  <div id=\"df-1d5ece92-11c3-41b5-8e22-5866339f2ebc\">\n",
              "    <div class=\"colab-df-container\">\n",
              "      <div>\n",
              "<style scoped>\n",
              "    .dataframe tbody tr th:only-of-type {\n",
              "        vertical-align: middle;\n",
              "    }\n",
              "\n",
              "    .dataframe tbody tr th {\n",
              "        vertical-align: top;\n",
              "    }\n",
              "\n",
              "    .dataframe thead th {\n",
              "        text-align: right;\n",
              "    }\n",
              "</style>\n",
              "<table border=\"1\" class=\"dataframe\">\n",
              "  <thead>\n",
              "    <tr style=\"text-align: right;\">\n",
              "      <th></th>\n",
              "      <th>x-values</th>\n",
              "      <th>y-values</th>\n",
              "    </tr>\n",
              "  </thead>\n",
              "  <tbody>\n",
              "    <tr>\n",
              "      <th>0</th>\n",
              "      <td>96</td>\n",
              "      <td>9.68</td>\n",
              "    </tr>\n",
              "    <tr>\n",
              "      <th>1</th>\n",
              "      <td>77</td>\n",
              "      <td>23.26</td>\n",
              "    </tr>\n",
              "    <tr>\n",
              "      <th>2</th>\n",
              "      <td>95</td>\n",
              "      <td>2.97</td>\n",
              "    </tr>\n",
              "    <tr>\n",
              "      <th>3</th>\n",
              "      <td>95</td>\n",
              "      <td>6.61</td>\n",
              "    </tr>\n",
              "    <tr>\n",
              "      <th>4</th>\n",
              "      <td>89</td>\n",
              "      <td>9.26</td>\n",
              "    </tr>\n",
              "  </tbody>\n",
              "</table>\n",
              "</div>\n",
              "      <button class=\"colab-df-convert\" onclick=\"convertToInteractive('df-1d5ece92-11c3-41b5-8e22-5866339f2ebc')\"\n",
              "              title=\"Convert this dataframe to an interactive table.\"\n",
              "              style=\"display:none;\">\n",
              "        \n",
              "  <svg xmlns=\"http://www.w3.org/2000/svg\" height=\"24px\"viewBox=\"0 0 24 24\"\n",
              "       width=\"24px\">\n",
              "    <path d=\"M0 0h24v24H0V0z\" fill=\"none\"/>\n",
              "    <path d=\"M18.56 5.44l.94 2.06.94-2.06 2.06-.94-2.06-.94-.94-2.06-.94 2.06-2.06.94zm-11 1L8.5 8.5l.94-2.06 2.06-.94-2.06-.94L8.5 2.5l-.94 2.06-2.06.94zm10 10l.94 2.06.94-2.06 2.06-.94-2.06-.94-.94-2.06-.94 2.06-2.06.94z\"/><path d=\"M17.41 7.96l-1.37-1.37c-.4-.4-.92-.59-1.43-.59-.52 0-1.04.2-1.43.59L10.3 9.45l-7.72 7.72c-.78.78-.78 2.05 0 2.83L4 21.41c.39.39.9.59 1.41.59.51 0 1.02-.2 1.41-.59l7.78-7.78 2.81-2.81c.8-.78.8-2.07 0-2.86zM5.41 20L4 18.59l7.72-7.72 1.47 1.35L5.41 20z\"/>\n",
              "  </svg>\n",
              "      </button>\n",
              "      \n",
              "  <style>\n",
              "    .colab-df-container {\n",
              "      display:flex;\n",
              "      flex-wrap:wrap;\n",
              "      gap: 12px;\n",
              "    }\n",
              "\n",
              "    .colab-df-convert {\n",
              "      background-color: #E8F0FE;\n",
              "      border: none;\n",
              "      border-radius: 50%;\n",
              "      cursor: pointer;\n",
              "      display: none;\n",
              "      fill: #1967D2;\n",
              "      height: 32px;\n",
              "      padding: 0 0 0 0;\n",
              "      width: 32px;\n",
              "    }\n",
              "\n",
              "    .colab-df-convert:hover {\n",
              "      background-color: #E2EBFA;\n",
              "      box-shadow: 0px 1px 2px rgba(60, 64, 67, 0.3), 0px 1px 3px 1px rgba(60, 64, 67, 0.15);\n",
              "      fill: #174EA6;\n",
              "    }\n",
              "\n",
              "    [theme=dark] .colab-df-convert {\n",
              "      background-color: #3B4455;\n",
              "      fill: #D2E3FC;\n",
              "    }\n",
              "\n",
              "    [theme=dark] .colab-df-convert:hover {\n",
              "      background-color: #434B5C;\n",
              "      box-shadow: 0px 1px 3px 1px rgba(0, 0, 0, 0.15);\n",
              "      filter: drop-shadow(0px 1px 2px rgba(0, 0, 0, 0.3));\n",
              "      fill: #FFFFFF;\n",
              "    }\n",
              "  </style>\n",
              "\n",
              "      <script>\n",
              "        const buttonEl =\n",
              "          document.querySelector('#df-1d5ece92-11c3-41b5-8e22-5866339f2ebc button.colab-df-convert');\n",
              "        buttonEl.style.display =\n",
              "          google.colab.kernel.accessAllowed ? 'block' : 'none';\n",
              "\n",
              "        async function convertToInteractive(key) {\n",
              "          const element = document.querySelector('#df-1d5ece92-11c3-41b5-8e22-5866339f2ebc');\n",
              "          const dataTable =\n",
              "            await google.colab.kernel.invokeFunction('convertToInteractive',\n",
              "                                                     [key], {});\n",
              "          if (!dataTable) return;\n",
              "\n",
              "          const docLinkHtml = 'Like what you see? Visit the ' +\n",
              "            '<a target=\"_blank\" href=https://colab.research.google.com/notebooks/data_table.ipynb>data table notebook</a>'\n",
              "            + ' to learn more about interactive tables.';\n",
              "          element.innerHTML = '';\n",
              "          dataTable['output_type'] = 'display_data';\n",
              "          await google.colab.output.renderOutput(dataTable, element);\n",
              "          const docLink = document.createElement('div');\n",
              "          docLink.innerHTML = docLinkHtml;\n",
              "          element.appendChild(docLink);\n",
              "        }\n",
              "      </script>\n",
              "    </div>\n",
              "  </div>\n",
              "  "
            ],
            "text/plain": [
              "   x-values  y-values\n",
              "0        96      9.68\n",
              "1        77     23.26\n",
              "2        95      2.97\n",
              "3        95      6.61\n",
              "4        89      9.26"
            ]
          },
          "metadata": {},
          "execution_count": 3
        }
      ]
    },
    {
      "cell_type": "markdown",
      "source": [
        "# Step 3: Plot a histogram for both variables (i.e. x column and y column)."
      ],
      "metadata": {
        "id": "yJcqcWysBOjg"
      }
    },
    {
      "cell_type": "markdown",
      "source": [
        "This is to check for the distribution type. \n",
        "Some correlation statistical tests, e.g. Pearson (the main one??) assumes a normal/Gaussian/bell-curve distribution, but data will probably not fall under this. \n",
        "\n",
        "Therefore our correlation hypothesis test will be Spearman's rank test, which is less sensitive to outliers and does not assume normal distribution.\n",
        "\n",
        "Plotting the histograms will justify this decision in our methodology."
      ],
      "metadata": {
        "id": "hvRmJCQSG3y5"
      }
    },
    {
      "cell_type": "code",
      "source": [
        "#First, note down summary descriptive statistics of x and y values (mean, standard dev., median, etc.)\n",
        "#also note down what x-values and y-values means, so we can write it in our website more meaningfully\n",
        "df.describe()"
      ],
      "metadata": {
        "colab": {
          "base_uri": "https://localhost:8080/",
          "height": 300
        },
        "id": "sSpodttdYi8o",
        "outputId": "a1022a6b-cf7b-4455-a091-3841350f4ecc"
      },
      "execution_count": 23,
      "outputs": [
        {
          "output_type": "execute_result",
          "data": {
            "text/html": [
              "\n",
              "  <div id=\"df-51cd3b9e-540a-44a3-89c0-1ae9e77a82c7\">\n",
              "    <div class=\"colab-df-container\">\n",
              "      <div>\n",
              "<style scoped>\n",
              "    .dataframe tbody tr th:only-of-type {\n",
              "        vertical-align: middle;\n",
              "    }\n",
              "\n",
              "    .dataframe tbody tr th {\n",
              "        vertical-align: top;\n",
              "    }\n",
              "\n",
              "    .dataframe thead th {\n",
              "        text-align: right;\n",
              "    }\n",
              "</style>\n",
              "<table border=\"1\" class=\"dataframe\">\n",
              "  <thead>\n",
              "    <tr style=\"text-align: right;\">\n",
              "      <th></th>\n",
              "      <th>x-values</th>\n",
              "      <th>y-values</th>\n",
              "    </tr>\n",
              "  </thead>\n",
              "  <tbody>\n",
              "    <tr>\n",
              "      <th>count</th>\n",
              "      <td>156.000000</td>\n",
              "      <td>156.000000</td>\n",
              "    </tr>\n",
              "    <tr>\n",
              "      <th>mean</th>\n",
              "      <td>86.878205</td>\n",
              "      <td>17.589936</td>\n",
              "    </tr>\n",
              "    <tr>\n",
              "      <th>std</th>\n",
              "      <td>11.959794</td>\n",
              "      <td>15.828556</td>\n",
              "    </tr>\n",
              "    <tr>\n",
              "      <th>min</th>\n",
              "      <td>52.000000</td>\n",
              "      <td>1.680000</td>\n",
              "    </tr>\n",
              "    <tr>\n",
              "      <th>25%</th>\n",
              "      <td>80.750000</td>\n",
              "      <td>5.270000</td>\n",
              "    </tr>\n",
              "    <tr>\n",
              "      <th>50%</th>\n",
              "      <td>91.000000</td>\n",
              "      <td>13.255000</td>\n",
              "    </tr>\n",
              "    <tr>\n",
              "      <th>75%</th>\n",
              "      <td>96.000000</td>\n",
              "      <td>24.040000</td>\n",
              "    </tr>\n",
              "    <tr>\n",
              "      <th>max</th>\n",
              "      <td>99.000000</td>\n",
              "      <td>67.240000</td>\n",
              "    </tr>\n",
              "  </tbody>\n",
              "</table>\n",
              "</div>\n",
              "      <button class=\"colab-df-convert\" onclick=\"convertToInteractive('df-51cd3b9e-540a-44a3-89c0-1ae9e77a82c7')\"\n",
              "              title=\"Convert this dataframe to an interactive table.\"\n",
              "              style=\"display:none;\">\n",
              "        \n",
              "  <svg xmlns=\"http://www.w3.org/2000/svg\" height=\"24px\"viewBox=\"0 0 24 24\"\n",
              "       width=\"24px\">\n",
              "    <path d=\"M0 0h24v24H0V0z\" fill=\"none\"/>\n",
              "    <path d=\"M18.56 5.44l.94 2.06.94-2.06 2.06-.94-2.06-.94-.94-2.06-.94 2.06-2.06.94zm-11 1L8.5 8.5l.94-2.06 2.06-.94-2.06-.94L8.5 2.5l-.94 2.06-2.06.94zm10 10l.94 2.06.94-2.06 2.06-.94-2.06-.94-.94-2.06-.94 2.06-2.06.94z\"/><path d=\"M17.41 7.96l-1.37-1.37c-.4-.4-.92-.59-1.43-.59-.52 0-1.04.2-1.43.59L10.3 9.45l-7.72 7.72c-.78.78-.78 2.05 0 2.83L4 21.41c.39.39.9.59 1.41.59.51 0 1.02-.2 1.41-.59l7.78-7.78 2.81-2.81c.8-.78.8-2.07 0-2.86zM5.41 20L4 18.59l7.72-7.72 1.47 1.35L5.41 20z\"/>\n",
              "  </svg>\n",
              "      </button>\n",
              "      \n",
              "  <style>\n",
              "    .colab-df-container {\n",
              "      display:flex;\n",
              "      flex-wrap:wrap;\n",
              "      gap: 12px;\n",
              "    }\n",
              "\n",
              "    .colab-df-convert {\n",
              "      background-color: #E8F0FE;\n",
              "      border: none;\n",
              "      border-radius: 50%;\n",
              "      cursor: pointer;\n",
              "      display: none;\n",
              "      fill: #1967D2;\n",
              "      height: 32px;\n",
              "      padding: 0 0 0 0;\n",
              "      width: 32px;\n",
              "    }\n",
              "\n",
              "    .colab-df-convert:hover {\n",
              "      background-color: #E2EBFA;\n",
              "      box-shadow: 0px 1px 2px rgba(60, 64, 67, 0.3), 0px 1px 3px 1px rgba(60, 64, 67, 0.15);\n",
              "      fill: #174EA6;\n",
              "    }\n",
              "\n",
              "    [theme=dark] .colab-df-convert {\n",
              "      background-color: #3B4455;\n",
              "      fill: #D2E3FC;\n",
              "    }\n",
              "\n",
              "    [theme=dark] .colab-df-convert:hover {\n",
              "      background-color: #434B5C;\n",
              "      box-shadow: 0px 1px 3px 1px rgba(0, 0, 0, 0.15);\n",
              "      filter: drop-shadow(0px 1px 2px rgba(0, 0, 0, 0.3));\n",
              "      fill: #FFFFFF;\n",
              "    }\n",
              "  </style>\n",
              "\n",
              "      <script>\n",
              "        const buttonEl =\n",
              "          document.querySelector('#df-51cd3b9e-540a-44a3-89c0-1ae9e77a82c7 button.colab-df-convert');\n",
              "        buttonEl.style.display =\n",
              "          google.colab.kernel.accessAllowed ? 'block' : 'none';\n",
              "\n",
              "        async function convertToInteractive(key) {\n",
              "          const element = document.querySelector('#df-51cd3b9e-540a-44a3-89c0-1ae9e77a82c7');\n",
              "          const dataTable =\n",
              "            await google.colab.kernel.invokeFunction('convertToInteractive',\n",
              "                                                     [key], {});\n",
              "          if (!dataTable) return;\n",
              "\n",
              "          const docLinkHtml = 'Like what you see? Visit the ' +\n",
              "            '<a target=\"_blank\" href=https://colab.research.google.com/notebooks/data_table.ipynb>data table notebook</a>'\n",
              "            + ' to learn more about interactive tables.';\n",
              "          element.innerHTML = '';\n",
              "          dataTable['output_type'] = 'display_data';\n",
              "          await google.colab.output.renderOutput(dataTable, element);\n",
              "          const docLink = document.createElement('div');\n",
              "          docLink.innerHTML = docLinkHtml;\n",
              "          element.appendChild(docLink);\n",
              "        }\n",
              "      </script>\n",
              "    </div>\n",
              "  </div>\n",
              "  "
            ],
            "text/plain": [
              "         x-values    y-values\n",
              "count  156.000000  156.000000\n",
              "mean    86.878205   17.589936\n",
              "std     11.959794   15.828556\n",
              "min     52.000000    1.680000\n",
              "25%     80.750000    5.270000\n",
              "50%     91.000000   13.255000\n",
              "75%     96.000000   24.040000\n",
              "max     99.000000   67.240000"
            ]
          },
          "metadata": {},
          "execution_count": 23
        }
      ]
    },
    {
      "cell_type": "code",
      "source": [
        "import matplotlib.pyplot as plt\n",
        "\n",
        "# Use the next line to set figure height and width (experiment to check the scale):\n",
        "figure_width, figure_height = 8,8\n",
        "plt.figure(figsize=(figure_width,figure_height))\n",
        "\n",
        "# Uncomment these lines (remove the #) to set the axis limits (otherwise they will be set automatically):\n",
        "#x_min,x_max = 0,5000000\n",
        "#y_min,y_max = 0,5000000\n",
        "#plt.xlim([x_min,x_max])\n",
        "#plt.ylim([y_min,y_max])\n",
        "\n",
        "#plot the histogram, repeat this for both the x-values and y-values\n",
        "#customise histogram title and x axis label according to the data\n",
        "\n",
        "plt.hist(df['x-values'],bins=20)\n",
        "plt.title('Histogram distribution of:')\n",
        "plt.xlabel('x-values')\n",
        "plt.ylabel('Frequency')\n",
        "\n",
        "#save the image in your data file to the left\n",
        "#change the filename to whatever you want (after the plots/ bit). But make sure it's a png.\n",
        "output_filename_x = '/content/plots/histogram_x.png'\n",
        "plt.savefig(output_filename_x)"
      ],
      "metadata": {
        "colab": {
          "base_uri": "https://localhost:8080/",
          "height": 513
        },
        "id": "CQ3xWrOuHUdu",
        "outputId": "467789e3-e15f-4d3f-ac9a-eec898a5a99e"
      },
      "execution_count": 12,
      "outputs": [
        {
          "output_type": "display_data",
          "data": {
            "image/png": "[encoded data removed]",
            "text/plain": [
              "<Figure size 576x576 with 1 Axes>"
            ]
          },
          "metadata": {
            "needs_background": "light"
          }
        }
      ]
    },
    {
      "cell_type": "code",
      "source": [
        "#same thing for y-values!\n",
        "\n",
        "figure_width, figure_height = 8,8\n",
        "plt.figure(figsize=(figure_width,figure_height))\n",
        "\n",
        "#x_min,x_max = 0,5000000\n",
        "#y_min,y_max = 0,5000000\n",
        "#plt.xlim([x_min,x_max])\n",
        "#plt.ylim([y_min,y_max])\n",
        "\n",
        "plt.hist(df['y-values'],bins=20)\n",
        "plt.title('Histogram distribution of:')\n",
        "plt.xlabel('y-values')\n",
        "plt.ylabel('Frequency')\n",
        "\n",
        "output_filename_y = '/content/plots/histogram_y.png'\n",
        "plt.savefig(output_filename_y)"
      ],
      "metadata": {
        "colab": {
          "base_uri": "https://localhost:8080/",
          "height": 513
        },
        "id": "bX4ahOyPL1kd",
        "outputId": "04fbdfac-1f12-4e93-96cb-f6ac6b6ba46e"
      },
      "execution_count": 14,
      "outputs": [
        {
          "output_type": "display_data",
          "data": {
            "image/png": "[encoded data removed]",
            "text/plain": [
              "<Figure size 576x576 with 1 Axes>"
            ]
          },
          "metadata": {
            "needs_background": "light"
          }
        }
      ]
    },
    {
      "cell_type": "markdown",
      "source": [
        "# Step 4: Save histograms as a .png."
      ],
      "metadata": {
        "id": "7P01ogDMBVjo"
      }
    },
    {
      "cell_type": "markdown",
      "source": [
        "Click on the vertical three dots next to the saved histogram plots and click 'download'. Will save to your computer.\n",
        "\n",
        "Need to download asap because the whole thing is reset in google colab after you end each runtime."
      ],
      "metadata": {
        "id": "3jpInsN6NlKI"
      }
    },
    {
      "cell_type": "markdown",
      "source": [
        "# Step 5: Plot the scatter graph with line of best fit and equation"
      ],
      "metadata": {
        "id": "TzfgKym1Ba3-"
      }
    },
    {
      "cell_type": "markdown",
      "source": [
        "Plot a scatter graph, with a line of best fit and information on the line equation (gradient, intercept, etc.)\n",
        "\n",
        "There is also a regression test of the r-squared value, or 'coefficient of determination', explaining how well of a fit a linear regression model is for the data, and what percentage of variation in the y-values can be explained by x-values. Ranges from 0-1.\n",
        "\n",
        "> E.g. if R-squared is 0.32, it is closer to 0 than 1. This implies that a linear regression line may not be the best fit for the data. It also suggests that approximately 32% of variation in 'y' can be explained by 'x'. It is likely that several other factors also may be related to 'y'.\n",
        "\n",
        "However it assumes normal distribution and is sensitive to outliers so we will need to do the Spearman's rank test as well.\n",
        "Spearman's rank is good because it does NOT assume the data is a linear pattern while R-Squared does."
      ],
      "metadata": {
        "id": "xQ5wOf28OGe2"
      }
    },
    {
      "cell_type": "code",
      "source": [
        "import statsmodels.api as sms\n",
        "import numpy as np\n",
        "\n",
        "# These lines extract the y-values and the x-values from the data:\n",
        "\n",
        "x_values = df['x-values']\n",
        "y_values = df['y-values']\n",
        "\n",
        "# These lines perform the regression procedure:\n",
        "\n",
        "X_values = sms.add_constant(x_values)\n",
        "regression_model_a = sms.OLS(y_values, X_values)\n",
        "regression_model_b = regression_model_a.fit()\n",
        "# and print a summary of the results:\n",
        "print(regression_model_b.summary())\n",
        "print() # blank line\n",
        "\n",
        "# Now we store all the relevant values:\n",
        "\n",
        "gradient  = regression_model_b.params[1]\n",
        "intercept = regression_model_b.params[0]\n",
        "Rsquared  = regression_model_b.rsquared\n",
        "MSE       = regression_model_b.mse_resid\n",
        "pvalue    = regression_model_b.f_pvalue\n",
        "\n",
        "# And print them:\n",
        "\n",
        "print(\"gradient  =\", regression_model_b.params[1])\n",
        "print(\"intercept =\", regression_model_b.params[0])\n",
        "print(\"Rsquared  =\", regression_model_b.rsquared)\n",
        "print(\"MSE       =\", regression_model_b.mse_resid)\n",
        "print(\"pvalue    =\", regression_model_b.f_pvalue)\n",
        "\n",
        "# This line creates the endpoints of the best-fit line:\n",
        "x_lobf = [min(x_values),max(x_values)]\n",
        "y_lobf = [x_lobf[0]*gradient + intercept,x_lobf[1]*gradient + intercept]\n",
        "\n",
        "# This line creates the figure. \n",
        "plt.figure(figsize=(figure_width,figure_height))\n",
        "\n",
        "# Uncomment these lines (remove the #) to set the axis limits (otherwise they will be set automatically):\n",
        "#sometimes worth to fiddle with because if x_min isn't 0, the y axis is not drawn at x=0 \n",
        "#might mean intercept looks like it doesn't match with the drawn plot\n",
        "#x_min,x_max = 0,100\n",
        "#y_min,y_max = 0,100\n",
        "#plt.xlim([x_min,x_max])\n",
        "#plt.ylim([y_min,y_max])\n",
        "\n",
        "# The next lines create and save the plot:\n",
        "#Modify the title and axis labels to whatever you want. Include as much info as possible e.g. country and date\n",
        "plt.plot(x_values,y_values,'b.',x_lobf,y_lobf,'r--')\n",
        "plt.title('Graph to show the comparison of: ')\n",
        "plt.xlabel('Independent Variable')\n",
        "plt.ylabel('Dependent Variable')\n",
        "\n",
        "#Save the graph in the data file on the left\n",
        "\n",
        "plot_filename = '/content/plots/scatterplot.png'\n",
        "plt.savefig(plot_filename)\n",
        "\n",
        "#print the equation of the regression line\n",
        "print('Regression Line Equation: y=',gradient,'x+(',intercept,')')"
      ],
      "metadata": {
        "colab": {
          "base_uri": "https://localhost:8080/",
          "height": 1000
        },
        "id": "RW5Ca4n4OSZ-",
        "outputId": "d91adf49-3f94-4623-f0c8-7e969f84e182"
      },
      "execution_count": 20,
      "outputs": [
        {
          "output_type": "stream",
          "name": "stdout",
          "text": [
            "                            OLS Regression Results                            \n",
            "==============================================================================\n",
            "Dep. Variable:               y-values   R-squared:                       0.216\n",
            "Model:                            OLS   Adj. R-squared:                  0.211\n",
            "Method:                 Least Squares   F-statistic:                     42.39\n",
            "Date:                Tue, 04 Jan 2022   Prob (F-statistic):           1.00e-09\n",
            "Time:                        18:32:40   Log-Likelihood:                -632.73\n",
            "No. Observations:                 156   AIC:                             1269.\n",
            "Df Residuals:                     154   BIC:                             1276.\n",
            "Df Model:                           1                                         \n",
            "Covariance Type:            nonrobust                                         \n",
            "==============================================================================\n",
            "                 coef    std err          t      P>|t|      [0.025      0.975]\n",
            "------------------------------------------------------------------------------\n",
            "const         71.0087      8.282      8.574      0.000      54.648      87.369\n",
            "x-values      -0.6149      0.094     -6.511      0.000      -0.801      -0.428\n",
            "==============================================================================\n",
            "Omnibus:                       18.545   Durbin-Watson:                   2.002\n",
            "Prob(Omnibus):                  0.000   Jarque-Bera (JB):               21.691\n",
            "Skew:                           0.904   Prob(JB):                     1.95e-05\n",
            "Kurtosis:                       3.265   Cond. No.                         645.\n",
            "==============================================================================\n",
            "\n",
            "Warnings:\n",
            "[1] Standard Errors assume that the covariance matrix of the errors is correctly specified.\n",
            "\n",
            "gradient  = -0.6148696202279116\n",
            "intercept = 71.00870489069794\n",
            "Rsquared  = 0.21583950211417768\n",
            "MSE       = 197.7418123244338\n",
            "pvalue    = 1.0000017417743772e-09\n",
            "Regression Line Equation: y= -0.6148696202279116 x+( 71.00870489069794 )\n"
          ]
        },
        {
          "output_type": "display_data",
          "data": {
            "image/png": "[encoded data removed]",
            "text/plain": [
              "<Figure size 576x576 with 1 Axes>"
            ]
          },
          "metadata": {
            "needs_background": "light"
          }
        }
      ]
    },
    {
      "cell_type": "markdown",
      "source": [
        "# Step 6: Save scatter plot as .png"
      ],
      "metadata": {
        "id": "iVLqysaZBbWu"
      }
    },
    {
      "cell_type": "markdown",
      "source": [
        "Download the scatterplot png using three vertical dots on the left.\n",
        "\n",
        "Make a note of the line equation, and 'clean' it up i.e by changing values to 2.d.p./3.s.f. \n",
        "\n",
        "\n",
        "> E.g. example output of 'Regression Line Equation: y= -0.6148696202279116 x+( 71.00870489069794 )' can be cleaned up as **'Equation: y= -0.61x + 71.01'**\n",
        "\n",
        "You can also interpret the equation in a real world context\n",
        "> e.g. For every factor 10 x increases, the y value decreases (because negative gradient) by approximately 6.1 times.\n",
        "\n"
      ],
      "metadata": {
        "id": "U2C2KsoVXbQA"
      }
    },
    {
      "cell_type": "markdown",
      "source": [
        "# Step 7: Perform spearman's rank correlation test"
      ],
      "metadata": {
        "id": "YH_JZ1asBbdZ"
      }
    },
    {
      "cell_type": "markdown",
      "source": [
        " Spearman's rank correlation coefficient is good because it does not assume a linear relationship, and is stronger against outliers than other tests. This is because it compares data ranks than the pure numbers, so this is the statistical test we will use for our regression analysis."
      ],
      "metadata": {
        "id": "85hUE6LEZx0o"
      }
    },
    {
      "cell_type": "code",
      "source": [
        "#the test will give a matrix, i.e. correlation of each factor against each factor. \n",
        "#We just need the value for x against y, so note this down\n",
        "df.corr(method='spearman')"
      ],
      "metadata": {
        "colab": {
          "base_uri": "https://localhost:8080/",
          "height": 112
        },
        "id": "ZN8ptpGFaUgN",
        "outputId": "85b52f0d-4996-4e73-9313-1d24f30616d7"
      },
      "execution_count": 24,
      "outputs": [
        {
          "output_type": "execute_result",
          "data": {
            "text/html": [
              "\n",
              "  <div id=\"df-50eebc5c-6ab4-4933-8672-63dfe09375e6\">\n",
              "    <div class=\"colab-df-container\">\n",
              "      <div>\n",
              "<style scoped>\n",
              "    .dataframe tbody tr th:only-of-type {\n",
              "        vertical-align: middle;\n",
              "    }\n",
              "\n",
              "    .dataframe tbody tr th {\n",
              "        vertical-align: top;\n",
              "    }\n",
              "\n",
              "    .dataframe thead th {\n",
              "        text-align: right;\n",
              "    }\n",
              "</style>\n",
              "<table border=\"1\" class=\"dataframe\">\n",
              "  <thead>\n",
              "    <tr style=\"text-align: right;\">\n",
              "      <th></th>\n",
              "      <th>x-values</th>\n",
              "      <th>y-values</th>\n",
              "    </tr>\n",
              "  </thead>\n",
              "  <tbody>\n",
              "    <tr>\n",
              "      <th>x-values</th>\n",
              "      <td>1.000000</td>\n",
              "      <td>-0.335556</td>\n",
              "    </tr>\n",
              "    <tr>\n",
              "      <th>y-values</th>\n",
              "      <td>-0.335556</td>\n",
              "      <td>1.000000</td>\n",
              "    </tr>\n",
              "  </tbody>\n",
              "</table>\n",
              "</div>\n",
              "      <button class=\"colab-df-convert\" onclick=\"convertToInteractive('df-50eebc5c-6ab4-4933-8672-63dfe09375e6')\"\n",
              "              title=\"Convert this dataframe to an interactive table.\"\n",
              "              style=\"display:none;\">\n",
              "        \n",
              "  <svg xmlns=\"http://www.w3.org/2000/svg\" height=\"24px\"viewBox=\"0 0 24 24\"\n",
              "       width=\"24px\">\n",
              "    <path d=\"M0 0h24v24H0V0z\" fill=\"none\"/>\n",
              "    <path d=\"M18.56 5.44l.94 2.06.94-2.06 2.06-.94-2.06-.94-.94-2.06-.94 2.06-2.06.94zm-11 1L8.5 8.5l.94-2.06 2.06-.94-2.06-.94L8.5 2.5l-.94 2.06-2.06.94zm10 10l.94 2.06.94-2.06 2.06-.94-2.06-.94-.94-2.06-.94 2.06-2.06.94z\"/><path d=\"M17.41 7.96l-1.37-1.37c-.4-.4-.92-.59-1.43-.59-.52 0-1.04.2-1.43.59L10.3 9.45l-7.72 7.72c-.78.78-.78 2.05 0 2.83L4 21.41c.39.39.9.59 1.41.59.51 0 1.02-.2 1.41-.59l7.78-7.78 2.81-2.81c.8-.78.8-2.07 0-2.86zM5.41 20L4 18.59l7.72-7.72 1.47 1.35L5.41 20z\"/>\n",
              "  </svg>\n",
              "      </button>\n",
              "      \n",
              "  <style>\n",
              "    .colab-df-container {\n",
              "      display:flex;\n",
              "      flex-wrap:wrap;\n",
              "      gap: 12px;\n",
              "    }\n",
              "\n",
              "    .colab-df-convert {\n",
              "      background-color: #E8F0FE;\n",
              "      border: none;\n",
              "      border-radius: 50%;\n",
              "      cursor: pointer;\n",
              "      display: none;\n",
              "      fill: #1967D2;\n",
              "      height: 32px;\n",
              "      padding: 0 0 0 0;\n",
              "      width: 32px;\n",
              "    }\n",
              "\n",
              "    .colab-df-convert:hover {\n",
              "      background-color: #E2EBFA;\n",
              "      box-shadow: 0px 1px 2px rgba(60, 64, 67, 0.3), 0px 1px 3px 1px rgba(60, 64, 67, 0.15);\n",
              "      fill: #174EA6;\n",
              "    }\n",
              "\n",
              "    [theme=dark] .colab-df-convert {\n",
              "      background-color: #3B4455;\n",
              "      fill: #D2E3FC;\n",
              "    }\n",
              "\n",
              "    [theme=dark] .colab-df-convert:hover {\n",
              "      background-color: #434B5C;\n",
              "      box-shadow: 0px 1px 3px 1px rgba(0, 0, 0, 0.15);\n",
              "      filter: drop-shadow(0px 1px 2px rgba(0, 0, 0, 0.3));\n",
              "      fill: #FFFFFF;\n",
              "    }\n",
              "  </style>\n",
              "\n",
              "      <script>\n",
              "        const buttonEl =\n",
              "          document.querySelector('#df-50eebc5c-6ab4-4933-8672-63dfe09375e6 button.colab-df-convert');\n",
              "        buttonEl.style.display =\n",
              "          google.colab.kernel.accessAllowed ? 'block' : 'none';\n",
              "\n",
              "        async function convertToInteractive(key) {\n",
              "          const element = document.querySelector('#df-50eebc5c-6ab4-4933-8672-63dfe09375e6');\n",
              "          const dataTable =\n",
              "            await google.colab.kernel.invokeFunction('convertToInteractive',\n",
              "                                                     [key], {});\n",
              "          if (!dataTable) return;\n",
              "\n",
              "          const docLinkHtml = 'Like what you see? Visit the ' +\n",
              "            '<a target=\"_blank\" href=https://colab.research.google.com/notebooks/data_table.ipynb>data table notebook</a>'\n",
              "            + ' to learn more about interactive tables.';\n",
              "          element.innerHTML = '';\n",
              "          dataTable['output_type'] = 'display_data';\n",
              "          await google.colab.output.renderOutput(dataTable, element);\n",
              "          const docLink = document.createElement('div');\n",
              "          docLink.innerHTML = docLinkHtml;\n",
              "          element.appendChild(docLink);\n",
              "        }\n",
              "      </script>\n",
              "    </div>\n",
              "  </div>\n",
              "  "
            ],
            "text/plain": [
              "          x-values  y-values\n",
              "x-values  1.000000 -0.335556\n",
              "y-values -0.335556  1.000000"
            ]
          },
          "metadata": {},
          "execution_count": 24
        }
      ]
    },
    {
      "cell_type": "markdown",
      "source": [
        "# Step 8: Record statistical value (Ρ/Spearman's rho) in a table with the values of the other factors"
      ],
      "metadata": {
        "id": "mu-m81aLBblC"
      }
    },
    {
      "cell_type": "markdown",
      "source": [
        "Note down the spearman's rank coefficient and for which factor it is for in relation to clinic access.\n",
        "\n",
        "Interpret the coefficient, and give it a real world context.\n",
        "The value can be between +1 and -1. +1 Indicates a perfect positive association of ranks, -1 a perfect negative association/correlation, and 0 indicates no association. The closer to 0, the weaker the association."
      ],
      "metadata": {
        "id": "KOoULXClkvhC"
      }
    },
    {
      "cell_type": "markdown",
      "source": [
        "# Step 9: Spearman's hypothesis test\n",
        "\n",
        "This is to test whether the realtionship/correlation found using the spearman test is a significant result.\n",
        "\n",
        "(Even if results aren't significant, it's always worth still reporting them than 'hiding' them, so we can still put them on our website!)\n",
        "\n",
        "Note down the results so we can report them."
      ],
      "metadata": {
        "id": "mf-L3wz4nPFE"
      }
    },
    {
      "cell_type": "markdown",
      "source": [
        "## Hypothesis test:\n",
        "\n",
        "> Significance level 5%\n",
        "\n",
        "> Null hypothesis (H0): Correlation is insignificant\n",
        "\n",
        "> Alternate hypothesis (H1): Correlation is significant\n",
        "\n",
        "Failure to reject null hypothesis if p>0.05."
      ],
      "metadata": {
        "id": "PKH3qCEFoPox"
      }
    },
    {
      "cell_type": "code",
      "source": [
        "#here's the code that will provide the p value (it will also give us the already calculated rho value)\n",
        "\n",
        "from scipy.stats import spearmanr\n",
        "\n",
        "coef, p = spearmanr(x_values, y_values)\n",
        "\n",
        "#rho/correlation coefficient, check the same as previously\n",
        "\n",
        "print('Spearmans correlation coefficient: %.3f' % coef)\n",
        "print('The p-value to test: %.10f' % p)\n",
        "\n",
        "#hypothesis test with p-value\n",
        "\n",
        "alpha = 0.05\n",
        "if p > alpha:\n",
        "\tprint('Results are insignificant (fail to reject H0) p=%.10f' % p)\n",
        "else:\n",
        "\tprint('Results are significant (reject H0) p=%.10f' % p)"
      ],
      "metadata": {
        "colab": {
          "base_uri": "https://localhost:8080/"
        },
        "id": "qELLu39rpY3k",
        "outputId": "57bc7484-482b-4af0-a445-a83cc27f4cb5"
      },
      "execution_count": 30,
      "outputs": [
        {
          "output_type": "stream",
          "name": "stdout",
          "text": [
            "Spearmans correlation coefficient: -0.336\n",
            "The p-value to test: 0.0000185048\n",
            "Results are significant (reject H0) p=0.0000185048\n"
          ]
        }
      ]
    }
  ]
}