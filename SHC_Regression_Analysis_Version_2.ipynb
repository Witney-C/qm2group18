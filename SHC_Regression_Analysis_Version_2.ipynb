{
  "nbformat": 4,
  "nbformat_minor": 0,
  "metadata": {
    "colab": {
      "name": "Copy of SHC Regression Analysis.ipynb",
      "provenance": [],
      "collapsed_sections": [],
      "authorship_tag": "ABX9TyOq6d1yNXm31liSA15sHlnB",
      "include_colab_link": true
    },
    "kernelspec": {
      "name": "python3",
      "display_name": "Python 3"
    },
    "language_info": {
      "name": "python"
    }
  },
  "cells": [
    {
      "cell_type": "markdown",
      "metadata": {
        "id": "view-in-github",
        "colab_type": "text"
      },
      "source": [
        "<a href=\"https://colab.research.google.com/github/Witney-C/qm2group18/blob/main/SHC_Regression_Analysis_Version_2.ipynb\" target=\"_parent\"><img src=\"https://colab.research.google.com/assets/colab-badge.svg\" alt=\"Open In Colab\"/></a>"
      ]
    },
    {
      "cell_type": "markdown",
      "source": [
        "## **Please save a copy of this in your own google drive before making changes.**\n",
        "## **'File' then 'save a copy in drive'. Thanks!!**"
      ],
      "metadata": {
        "id": "Rcvsz11CshJj"
      }
    },
    {
      "cell_type": "markdown",
      "source": [
        "# Step 1: Make data file and import data as an excel '.csv' file."
      ],
      "metadata": {
        "id": "YRJH9rl1AyvM"
      }
    },
    {
      "cell_type": "code",
      "source": [
        "#this creates a file you can see by clicking on the file icon on left of google colab\n",
        "\n",
        "!mkdir data\n",
        "!mkdir plots\n",
        "\n",
        "#import your excel csv into this file, by clicking three verticle dots and then 'upload'\n",
        "#or import from github, etc.\n",
        "\n",
        "#The data file must be two columns of numbers, the x values and y values.\n",
        "#X-values are Independent variables, therefore our factors such as religiosity, GDP, election results\n",
        "#Y-values are Dependent variables, therefore clinic distribution\n",
        "\n",
        "#Use the interquartile range test from QM last year/boxplot to see if there are any outliers, remove if you like\n",
        "#Make sure data is clean and has no NaN/blank spaces"
      ],
      "metadata": {
        "id": "ODULjoeVCXrN"
      },
      "execution_count": 1,
      "outputs": []
    },
    {
      "cell_type": "markdown",
      "source": [
        "# Step 2: Read imported csv file as a pandas DataFrame and save this as an object"
      ],
      "metadata": {
        "id": "5di9d4a0A7s6"
      }
    },
    {
      "cell_type": "code",
      "source": [
        "import pandas as pd\n",
        "\n",
        "#replace red file name by clicking three vertical dots next to your uploaded csv file on the left, then 'copy path'\n",
        "#paste over red file name\n",
        "\n",
        "data = pd.read_csv(\"/content/data/republican_votes.csv\")\n",
        "\n",
        "#rename the column headers to 'x-values' and 'y-values'. \n",
        "#This hopefully makes sure this code can be used with a different csv file each time\n",
        "#replace 'percent_votes_republican_2016' and 'clinics_per_1000_sqmiles' with the original column headers of your chosen dataset\n",
        "\n",
        "df = data.rename(columns={'percent_votes_republican_2016':'x-values', 'clinics_per_1000_sqmiles': 'y-values'})\n",
        "\n",
        "#check the data looks ok, and how many columns there are, and the data type etc. (should be int/float)\n",
        "#check that the column headers are now 'x-values' and 'y-values'\n",
        "\n",
        "df.head()"
      ],
      "metadata": {
        "colab": {
          "base_uri": "https://localhost:8080/",
          "height": 206
        },
        "id": "8pcVgd4nDj6L",
        "outputId": "0a446b1e-f992-4a05-cad2-a076898f92b8"
      },
      "execution_count": 34,
      "outputs": [
        {
          "output_type": "execute_result",
          "data": {
            "text/html": [
              "\n",
              "  <div id=\"df-6a1d5943-a721-4375-9f2a-bc503158dd5e\">\n",
              "    <div class=\"colab-df-container\">\n",
              "      <div>\n",
              "<style scoped>\n",
              "    .dataframe tbody tr th:only-of-type {\n",
              "        vertical-align: middle;\n",
              "    }\n",
              "\n",
              "    .dataframe tbody tr th {\n",
              "        vertical-align: top;\n",
              "    }\n",
              "\n",
              "    .dataframe thead th {\n",
              "        text-align: right;\n",
              "    }\n",
              "</style>\n",
              "<table border=\"1\" class=\"dataframe\">\n",
              "  <thead>\n",
              "    <tr style=\"text-align: right;\">\n",
              "      <th></th>\n",
              "      <th>x-values</th>\n",
              "      <th>y-values</th>\n",
              "    </tr>\n",
              "  </thead>\n",
              "  <tbody>\n",
              "    <tr>\n",
              "      <th>0</th>\n",
              "      <td>73.44</td>\n",
              "      <td>3.36</td>\n",
              "    </tr>\n",
              "    <tr>\n",
              "      <th>1</th>\n",
              "      <td>77.35</td>\n",
              "      <td>3.77</td>\n",
              "    </tr>\n",
              "    <tr>\n",
              "      <th>2</th>\n",
              "      <td>52.27</td>\n",
              "      <td>3.39</td>\n",
              "    </tr>\n",
              "    <tr>\n",
              "      <th>3</th>\n",
              "      <td>76.97</td>\n",
              "      <td>8.03</td>\n",
              "    </tr>\n",
              "    <tr>\n",
              "      <th>4</th>\n",
              "      <td>89.85</td>\n",
              "      <td>3.10</td>\n",
              "    </tr>\n",
              "  </tbody>\n",
              "</table>\n",
              "</div>\n",
              "      <button class=\"colab-df-convert\" onclick=\"convertToInteractive('df-6a1d5943-a721-4375-9f2a-bc503158dd5e')\"\n",
              "              title=\"Convert this dataframe to an interactive table.\"\n",
              "              style=\"display:none;\">\n",
              "        \n",
              "  <svg xmlns=\"http://www.w3.org/2000/svg\" height=\"24px\"viewBox=\"0 0 24 24\"\n",
              "       width=\"24px\">\n",
              "    <path d=\"M0 0h24v24H0V0z\" fill=\"none\"/>\n",
              "    <path d=\"M18.56 5.44l.94 2.06.94-2.06 2.06-.94-2.06-.94-.94-2.06-.94 2.06-2.06.94zm-11 1L8.5 8.5l.94-2.06 2.06-.94-2.06-.94L8.5 2.5l-.94 2.06-2.06.94zm10 10l.94 2.06.94-2.06 2.06-.94-2.06-.94-.94-2.06-.94 2.06-2.06.94z\"/><path d=\"M17.41 7.96l-1.37-1.37c-.4-.4-.92-.59-1.43-.59-.52 0-1.04.2-1.43.59L10.3 9.45l-7.72 7.72c-.78.78-.78 2.05 0 2.83L4 21.41c.39.39.9.59 1.41.59.51 0 1.02-.2 1.41-.59l7.78-7.78 2.81-2.81c.8-.78.8-2.07 0-2.86zM5.41 20L4 18.59l7.72-7.72 1.47 1.35L5.41 20z\"/>\n",
              "  </svg>\n",
              "      </button>\n",
              "      \n",
              "  <style>\n",
              "    .colab-df-container {\n",
              "      display:flex;\n",
              "      flex-wrap:wrap;\n",
              "      gap: 12px;\n",
              "    }\n",
              "\n",
              "    .colab-df-convert {\n",
              "      background-color: #E8F0FE;\n",
              "      border: none;\n",
              "      border-radius: 50%;\n",
              "      cursor: pointer;\n",
              "      display: none;\n",
              "      fill: #1967D2;\n",
              "      height: 32px;\n",
              "      padding: 0 0 0 0;\n",
              "      width: 32px;\n",
              "    }\n",
              "\n",
              "    .colab-df-convert:hover {\n",
              "      background-color: #E2EBFA;\n",
              "      box-shadow: 0px 1px 2px rgba(60, 64, 67, 0.3), 0px 1px 3px 1px rgba(60, 64, 67, 0.15);\n",
              "      fill: #174EA6;\n",
              "    }\n",
              "\n",
              "    [theme=dark] .colab-df-convert {\n",
              "      background-color: #3B4455;\n",
              "      fill: #D2E3FC;\n",
              "    }\n",
              "\n",
              "    [theme=dark] .colab-df-convert:hover {\n",
              "      background-color: #434B5C;\n",
              "      box-shadow: 0px 1px 3px 1px rgba(0, 0, 0, 0.15);\n",
              "      filter: drop-shadow(0px 1px 2px rgba(0, 0, 0, 0.3));\n",
              "      fill: #FFFFFF;\n",
              "    }\n",
              "  </style>\n",
              "\n",
              "      <script>\n",
              "        const buttonEl =\n",
              "          document.querySelector('#df-6a1d5943-a721-4375-9f2a-bc503158dd5e button.colab-df-convert');\n",
              "        buttonEl.style.display =\n",
              "          google.colab.kernel.accessAllowed ? 'block' : 'none';\n",
              "\n",
              "        async function convertToInteractive(key) {\n",
              "          const element = document.querySelector('#df-6a1d5943-a721-4375-9f2a-bc503158dd5e');\n",
              "          const dataTable =\n",
              "            await google.colab.kernel.invokeFunction('convertToInteractive',\n",
              "                                                     [key], {});\n",
              "          if (!dataTable) return;\n",
              "\n",
              "          const docLinkHtml = 'Like what you see? Visit the ' +\n",
              "            '<a target=\"_blank\" href=https://colab.research.google.com/notebooks/data_table.ipynb>data table notebook</a>'\n",
              "            + ' to learn more about interactive tables.';\n",
              "          element.innerHTML = '';\n",
              "          dataTable['output_type'] = 'display_data';\n",
              "          await google.colab.output.renderOutput(dataTable, element);\n",
              "          const docLink = document.createElement('div');\n",
              "          docLink.innerHTML = docLinkHtml;\n",
              "          element.appendChild(docLink);\n",
              "        }\n",
              "      </script>\n",
              "    </div>\n",
              "  </div>\n",
              "  "
            ],
            "text/plain": [
              "   x-values  y-values\n",
              "0     73.44      3.36\n",
              "1     77.35      3.77\n",
              "2     52.27      3.39\n",
              "3     76.97      8.03\n",
              "4     89.85      3.10"
            ]
          },
          "metadata": {},
          "execution_count": 34
        }
      ]
    },
    {
      "cell_type": "markdown",
      "source": [
        "The following code is for removing outliers, only use if you need it"
      ],
      "metadata": {
        "id": "FrNC93zoXl6o"
      }
    },
    {
      "cell_type": "code",
      "source": [
        "import numpy as np\n",
        "\n",
        "def outlier_treatment(datacolumn):\n",
        " sorted(datacolumn)\n",
        " Q1,Q3 = np.percentile(datacolumn , [25,75])\n",
        " IQR = Q3 - Q1\n",
        " lower_range = Q1 - (1.5 * IQR)\n",
        " upper_range = Q3 + (1.5 * IQR)\n",
        " return lower_range,upper_range\n",
        "\n",
        "#apply to either x-values or y-values as required\n",
        "lowerbound,upperbound = outlier_treatment(df['y-values'])\n",
        "\n",
        "df[(df['y-values'] < lowerbound) | (df['y-values'] > upperbound)]\n",
        "\n",
        "df.drop(df[ (df['y-values'] > upperbound) | (df['y-values'] < lowerbound) ].index,inplace=True)\n",
        "\n",
        "df"
      ],
      "metadata": {
        "colab": {
          "base_uri": "https://localhost:8080/",
          "height": 423
        },
        "id": "BPi7aR2fXk-e",
        "outputId": "ed980ebb-1d7d-4bc5-8d01-5f9783a955be"
      },
      "execution_count": 35,
      "outputs": [
        {
          "output_type": "execute_result",
          "data": {
            "text/html": [
              "\n",
              "  <div id=\"df-1b0918af-cf23-40af-9252-cf221ca24284\">\n",
              "    <div class=\"colab-df-container\">\n",
              "      <div>\n",
              "<style scoped>\n",
              "    .dataframe tbody tr th:only-of-type {\n",
              "        vertical-align: middle;\n",
              "    }\n",
              "\n",
              "    .dataframe tbody tr th {\n",
              "        vertical-align: top;\n",
              "    }\n",
              "\n",
              "    .dataframe thead th {\n",
              "        text-align: right;\n",
              "    }\n",
              "</style>\n",
              "<table border=\"1\" class=\"dataframe\">\n",
              "  <thead>\n",
              "    <tr style=\"text-align: right;\">\n",
              "      <th></th>\n",
              "      <th>x-values</th>\n",
              "      <th>y-values</th>\n",
              "    </tr>\n",
              "  </thead>\n",
              "  <tbody>\n",
              "    <tr>\n",
              "      <th>0</th>\n",
              "      <td>73.44</td>\n",
              "      <td>3.36</td>\n",
              "    </tr>\n",
              "    <tr>\n",
              "      <th>1</th>\n",
              "      <td>77.35</td>\n",
              "      <td>3.77</td>\n",
              "    </tr>\n",
              "    <tr>\n",
              "      <th>2</th>\n",
              "      <td>52.27</td>\n",
              "      <td>3.39</td>\n",
              "    </tr>\n",
              "    <tr>\n",
              "      <th>3</th>\n",
              "      <td>76.97</td>\n",
              "      <td>8.03</td>\n",
              "    </tr>\n",
              "    <tr>\n",
              "      <th>4</th>\n",
              "      <td>89.85</td>\n",
              "      <td>3.10</td>\n",
              "    </tr>\n",
              "    <tr>\n",
              "      <th>...</th>\n",
              "      <td>...</td>\n",
              "      <td>...</td>\n",
              "    </tr>\n",
              "    <tr>\n",
              "      <th>3130</th>\n",
              "      <td>72.94</td>\n",
              "      <td>0.19</td>\n",
              "    </tr>\n",
              "    <tr>\n",
              "      <th>3131</th>\n",
              "      <td>32.19</td>\n",
              "      <td>0.00</td>\n",
              "    </tr>\n",
              "    <tr>\n",
              "      <th>3132</th>\n",
              "      <td>76.42</td>\n",
              "      <td>0.48</td>\n",
              "    </tr>\n",
              "    <tr>\n",
              "      <th>3133</th>\n",
              "      <td>78.36</td>\n",
              "      <td>0.45</td>\n",
              "    </tr>\n",
              "    <tr>\n",
              "      <th>3134</th>\n",
              "      <td>86.92</td>\n",
              "      <td>0.42</td>\n",
              "    </tr>\n",
              "  </tbody>\n",
              "</table>\n",
              "<p>2877 rows × 2 columns</p>\n",
              "</div>\n",
              "      <button class=\"colab-df-convert\" onclick=\"convertToInteractive('df-1b0918af-cf23-40af-9252-cf221ca24284')\"\n",
              "              title=\"Convert this dataframe to an interactive table.\"\n",
              "              style=\"display:none;\">\n",
              "        \n",
              "  <svg xmlns=\"http://www.w3.org/2000/svg\" height=\"24px\"viewBox=\"0 0 24 24\"\n",
              "       width=\"24px\">\n",
              "    <path d=\"M0 0h24v24H0V0z\" fill=\"none\"/>\n",
              "    <path d=\"M18.56 5.44l.94 2.06.94-2.06 2.06-.94-2.06-.94-.94-2.06-.94 2.06-2.06.94zm-11 1L8.5 8.5l.94-2.06 2.06-.94-2.06-.94L8.5 2.5l-.94 2.06-2.06.94zm10 10l.94 2.06.94-2.06 2.06-.94-2.06-.94-.94-2.06-.94 2.06-2.06.94z\"/><path d=\"M17.41 7.96l-1.37-1.37c-.4-.4-.92-.59-1.43-.59-.52 0-1.04.2-1.43.59L10.3 9.45l-7.72 7.72c-.78.78-.78 2.05 0 2.83L4 21.41c.39.39.9.59 1.41.59.51 0 1.02-.2 1.41-.59l7.78-7.78 2.81-2.81c.8-.78.8-2.07 0-2.86zM5.41 20L4 18.59l7.72-7.72 1.47 1.35L5.41 20z\"/>\n",
              "  </svg>\n",
              "      </button>\n",
              "      \n",
              "  <style>\n",
              "    .colab-df-container {\n",
              "      display:flex;\n",
              "      flex-wrap:wrap;\n",
              "      gap: 12px;\n",
              "    }\n",
              "\n",
              "    .colab-df-convert {\n",
              "      background-color: #E8F0FE;\n",
              "      border: none;\n",
              "      border-radius: 50%;\n",
              "      cursor: pointer;\n",
              "      display: none;\n",
              "      fill: #1967D2;\n",
              "      height: 32px;\n",
              "      padding: 0 0 0 0;\n",
              "      width: 32px;\n",
              "    }\n",
              "\n",
              "    .colab-df-convert:hover {\n",
              "      background-color: #E2EBFA;\n",
              "      box-shadow: 0px 1px 2px rgba(60, 64, 67, 0.3), 0px 1px 3px 1px rgba(60, 64, 67, 0.15);\n",
              "      fill: #174EA6;\n",
              "    }\n",
              "\n",
              "    [theme=dark] .colab-df-convert {\n",
              "      background-color: #3B4455;\n",
              "      fill: #D2E3FC;\n",
              "    }\n",
              "\n",
              "    [theme=dark] .colab-df-convert:hover {\n",
              "      background-color: #434B5C;\n",
              "      box-shadow: 0px 1px 3px 1px rgba(0, 0, 0, 0.15);\n",
              "      filter: drop-shadow(0px 1px 2px rgba(0, 0, 0, 0.3));\n",
              "      fill: #FFFFFF;\n",
              "    }\n",
              "  </style>\n",
              "\n",
              "      <script>\n",
              "        const buttonEl =\n",
              "          document.querySelector('#df-1b0918af-cf23-40af-9252-cf221ca24284 button.colab-df-convert');\n",
              "        buttonEl.style.display =\n",
              "          google.colab.kernel.accessAllowed ? 'block' : 'none';\n",
              "\n",
              "        async function convertToInteractive(key) {\n",
              "          const element = document.querySelector('#df-1b0918af-cf23-40af-9252-cf221ca24284');\n",
              "          const dataTable =\n",
              "            await google.colab.kernel.invokeFunction('convertToInteractive',\n",
              "                                                     [key], {});\n",
              "          if (!dataTable) return;\n",
              "\n",
              "          const docLinkHtml = 'Like what you see? Visit the ' +\n",
              "            '<a target=\"_blank\" href=https://colab.research.google.com/notebooks/data_table.ipynb>data table notebook</a>'\n",
              "            + ' to learn more about interactive tables.';\n",
              "          element.innerHTML = '';\n",
              "          dataTable['output_type'] = 'display_data';\n",
              "          await google.colab.output.renderOutput(dataTable, element);\n",
              "          const docLink = document.createElement('div');\n",
              "          docLink.innerHTML = docLinkHtml;\n",
              "          element.appendChild(docLink);\n",
              "        }\n",
              "      </script>\n",
              "    </div>\n",
              "  </div>\n",
              "  "
            ],
            "text/plain": [
              "      x-values  y-values\n",
              "0        73.44      3.36\n",
              "1        77.35      3.77\n",
              "2        52.27      3.39\n",
              "3        76.97      8.03\n",
              "4        89.85      3.10\n",
              "...        ...       ...\n",
              "3130     72.94      0.19\n",
              "3131     32.19      0.00\n",
              "3132     76.42      0.48\n",
              "3133     78.36      0.45\n",
              "3134     86.92      0.42\n",
              "\n",
              "[2877 rows x 2 columns]"
            ]
          },
          "metadata": {},
          "execution_count": 35
        }
      ]
    },
    {
      "cell_type": "markdown",
      "source": [
        "# Step 3: Plot a histogram for both variables (i.e. x column and y column)."
      ],
      "metadata": {
        "id": "yJcqcWysBOjg"
      }
    },
    {
      "cell_type": "markdown",
      "source": [
        "This is to check for the distribution type. \n",
        "Some correlation statistical tests, e.g. Pearson (the main one??) assumes a normal/Gaussian/bell-curve distribution, but data will probably not fall under this. \n",
        "\n",
        "Therefore our correlation hypothesis test will be Spearman's rank test, which is less sensitive to outliers and does not assume normal distribution.\n",
        "\n",
        "Plotting the histograms will justify this decision in our methodology."
      ],
      "metadata": {
        "id": "hvRmJCQSG3y5"
      }
    },
    {
      "cell_type": "code",
      "source": [
        "#First, note down summary descriptive statistics of x and y values (mean, standard dev., median, etc.)\n",
        "#also note down what x-values and y-values means, so we can write it in our website more meaningfully\n",
        "\n",
        "#uncomment next line if 'count' i.e. number of datapoints in x/y do not match, to remove these values\n",
        "#df.dropna(inplace=True)\n",
        "\n",
        "df.describe()"
      ],
      "metadata": {
        "colab": {
          "base_uri": "https://localhost:8080/",
          "height": 300
        },
        "id": "sSpodttdYi8o",
        "outputId": "10557140-807e-4d08-d4b3-2f00484961dd"
      },
      "execution_count": 36,
      "outputs": [
        {
          "output_type": "execute_result",
          "data": {
            "text/html": [
              "\n",
              "  <div id=\"df-ba9e58c6-9767-41e9-9cf8-181143677862\">\n",
              "    <div class=\"colab-df-container\">\n",
              "      <div>\n",
              "<style scoped>\n",
              "    .dataframe tbody tr th:only-of-type {\n",
              "        vertical-align: middle;\n",
              "    }\n",
              "\n",
              "    .dataframe tbody tr th {\n",
              "        vertical-align: top;\n",
              "    }\n",
              "\n",
              "    .dataframe thead th {\n",
              "        text-align: right;\n",
              "    }\n",
              "</style>\n",
              "<table border=\"1\" class=\"dataframe\">\n",
              "  <thead>\n",
              "    <tr style=\"text-align: right;\">\n",
              "      <th></th>\n",
              "      <th>x-values</th>\n",
              "      <th>y-values</th>\n",
              "    </tr>\n",
              "  </thead>\n",
              "  <tbody>\n",
              "    <tr>\n",
              "      <th>count</th>\n",
              "      <td>2877.000000</td>\n",
              "      <td>2877.000000</td>\n",
              "    </tr>\n",
              "    <tr>\n",
              "      <th>mean</th>\n",
              "      <td>65.269621</td>\n",
              "      <td>3.035843</td>\n",
              "    </tr>\n",
              "    <tr>\n",
              "      <th>std</th>\n",
              "      <td>14.167444</td>\n",
              "      <td>2.880857</td>\n",
              "    </tr>\n",
              "    <tr>\n",
              "      <th>min</th>\n",
              "      <td>12.670000</td>\n",
              "      <td>0.000000</td>\n",
              "    </tr>\n",
              "    <tr>\n",
              "      <th>25%</th>\n",
              "      <td>57.000000</td>\n",
              "      <td>0.700000</td>\n",
              "    </tr>\n",
              "    <tr>\n",
              "      <th>50%</th>\n",
              "      <td>67.700000</td>\n",
              "      <td>2.300000</td>\n",
              "    </tr>\n",
              "    <tr>\n",
              "      <th>75%</th>\n",
              "      <td>75.660000</td>\n",
              "      <td>4.630000</td>\n",
              "    </tr>\n",
              "    <tr>\n",
              "      <th>max</th>\n",
              "      <td>95.270000</td>\n",
              "      <td>12.370000</td>\n",
              "    </tr>\n",
              "  </tbody>\n",
              "</table>\n",
              "</div>\n",
              "      <button class=\"colab-df-convert\" onclick=\"convertToInteractive('df-ba9e58c6-9767-41e9-9cf8-181143677862')\"\n",
              "              title=\"Convert this dataframe to an interactive table.\"\n",
              "              style=\"display:none;\">\n",
              "        \n",
              "  <svg xmlns=\"http://www.w3.org/2000/svg\" height=\"24px\"viewBox=\"0 0 24 24\"\n",
              "       width=\"24px\">\n",
              "    <path d=\"M0 0h24v24H0V0z\" fill=\"none\"/>\n",
              "    <path d=\"M18.56 5.44l.94 2.06.94-2.06 2.06-.94-2.06-.94-.94-2.06-.94 2.06-2.06.94zm-11 1L8.5 8.5l.94-2.06 2.06-.94-2.06-.94L8.5 2.5l-.94 2.06-2.06.94zm10 10l.94 2.06.94-2.06 2.06-.94-2.06-.94-.94-2.06-.94 2.06-2.06.94z\"/><path d=\"M17.41 7.96l-1.37-1.37c-.4-.4-.92-.59-1.43-.59-.52 0-1.04.2-1.43.59L10.3 9.45l-7.72 7.72c-.78.78-.78 2.05 0 2.83L4 21.41c.39.39.9.59 1.41.59.51 0 1.02-.2 1.41-.59l7.78-7.78 2.81-2.81c.8-.78.8-2.07 0-2.86zM5.41 20L4 18.59l7.72-7.72 1.47 1.35L5.41 20z\"/>\n",
              "  </svg>\n",
              "      </button>\n",
              "      \n",
              "  <style>\n",
              "    .colab-df-container {\n",
              "      display:flex;\n",
              "      flex-wrap:wrap;\n",
              "      gap: 12px;\n",
              "    }\n",
              "\n",
              "    .colab-df-convert {\n",
              "      background-color: #E8F0FE;\n",
              "      border: none;\n",
              "      border-radius: 50%;\n",
              "      cursor: pointer;\n",
              "      display: none;\n",
              "      fill: #1967D2;\n",
              "      height: 32px;\n",
              "      padding: 0 0 0 0;\n",
              "      width: 32px;\n",
              "    }\n",
              "\n",
              "    .colab-df-convert:hover {\n",
              "      background-color: #E2EBFA;\n",
              "      box-shadow: 0px 1px 2px rgba(60, 64, 67, 0.3), 0px 1px 3px 1px rgba(60, 64, 67, 0.15);\n",
              "      fill: #174EA6;\n",
              "    }\n",
              "\n",
              "    [theme=dark] .colab-df-convert {\n",
              "      background-color: #3B4455;\n",
              "      fill: #D2E3FC;\n",
              "    }\n",
              "\n",
              "    [theme=dark] .colab-df-convert:hover {\n",
              "      background-color: #434B5C;\n",
              "      box-shadow: 0px 1px 3px 1px rgba(0, 0, 0, 0.15);\n",
              "      filter: drop-shadow(0px 1px 2px rgba(0, 0, 0, 0.3));\n",
              "      fill: #FFFFFF;\n",
              "    }\n",
              "  </style>\n",
              "\n",
              "      <script>\n",
              "        const buttonEl =\n",
              "          document.querySelector('#df-ba9e58c6-9767-41e9-9cf8-181143677862 button.colab-df-convert');\n",
              "        buttonEl.style.display =\n",
              "          google.colab.kernel.accessAllowed ? 'block' : 'none';\n",
              "\n",
              "        async function convertToInteractive(key) {\n",
              "          const element = document.querySelector('#df-ba9e58c6-9767-41e9-9cf8-181143677862');\n",
              "          const dataTable =\n",
              "            await google.colab.kernel.invokeFunction('convertToInteractive',\n",
              "                                                     [key], {});\n",
              "          if (!dataTable) return;\n",
              "\n",
              "          const docLinkHtml = 'Like what you see? Visit the ' +\n",
              "            '<a target=\"_blank\" href=https://colab.research.google.com/notebooks/data_table.ipynb>data table notebook</a>'\n",
              "            + ' to learn more about interactive tables.';\n",
              "          element.innerHTML = '';\n",
              "          dataTable['output_type'] = 'display_data';\n",
              "          await google.colab.output.renderOutput(dataTable, element);\n",
              "          const docLink = document.createElement('div');\n",
              "          docLink.innerHTML = docLinkHtml;\n",
              "          element.appendChild(docLink);\n",
              "        }\n",
              "      </script>\n",
              "    </div>\n",
              "  </div>\n",
              "  "
            ],
            "text/plain": [
              "          x-values     y-values\n",
              "count  2877.000000  2877.000000\n",
              "mean     65.269621     3.035843\n",
              "std      14.167444     2.880857\n",
              "min      12.670000     0.000000\n",
              "25%      57.000000     0.700000\n",
              "50%      67.700000     2.300000\n",
              "75%      75.660000     4.630000\n",
              "max      95.270000    12.370000"
            ]
          },
          "metadata": {},
          "execution_count": 36
        }
      ]
    },
    {
      "cell_type": "code",
      "source": [
        "import matplotlib.pyplot as plt\n",
        "\n",
        "# Use the next line to set figure height and width (experiment to check the scale):\n",
        "figure_width, figure_height = 8,8\n",
        "plt.figure(figsize=(figure_width,figure_height))\n",
        "\n",
        "# Uncomment these lines (remove the #) to set the axis limits (otherwise they will be set automatically):\n",
        "#x_min,x_max = 0,5000000\n",
        "#y_min,y_max = 0,5000000\n",
        "#plt.xlim([x_min,x_max])\n",
        "#plt.ylim([y_min,y_max])\n",
        "\n",
        "#plot the histogram, repeat this for both the x-values and y-values\n",
        "#customise histogram title and x axis label according to the data\n",
        "\n",
        "plt.hist(df['x-values'],bins=20)\n",
        "plt.title('Histogram distribution of proportion of republican votes, 2016 election')\n",
        "plt.xlabel('Percentage of Republican Votes, 2016')\n",
        "plt.ylabel('Frequency')\n",
        "\n",
        "#save the image in your data file to the left\n",
        "#change the filename to whatever you want (after the plots/ bit). But make sure it's a png.\n",
        "output_filename_x = '/content/plots/republican_histogram_x.png'\n",
        "plt.savefig(output_filename_x)"
      ],
      "metadata": {
        "colab": {
          "base_uri": "https://localhost:8080/",
          "height": 513
        },
        "id": "CQ3xWrOuHUdu",
        "outputId": "e60c81b9-a309-4e49-9952-448cbd62ccab"
      },
      "execution_count": 20,
      "outputs": [
        {
          "output_type": "display_data",
          "data": {
            "image/png": "[encoded data removed]",
            "text/plain": [
              "<Figure size 576x576 with 1 Axes>"
            ]
          },
          "metadata": {
            "needs_background": "light"
          }
        }
      ]
    },
    {
      "cell_type": "code",
      "source": [
        "#same thing for y-values!\n",
        "\n",
        "figure_width, figure_height = 8,8\n",
        "plt.figure(figsize=(figure_width,figure_height))\n",
        "\n",
        "#x_min,x_max = 0,500\n",
        "#y_min,y_max = 0,5000000\n",
        "#plt.xlim([x_min,x_max])\n",
        "#plt.ylim([y_min,y_max])\n",
        "\n",
        "plt.hist(df['y-values'],bins=20)\n",
        "plt.title('Histogram distribution of US County Sexual Health Clinic Distribution')\n",
        "plt.xlabel('Clinics per 1000 sqmiles')\n",
        "plt.ylabel('Frequency')\n",
        "\n",
        "output_filename_y = '/content/plots/clinicdensity_histogram_y.png'\n",
        "plt.savefig(output_filename_y)"
      ],
      "metadata": {
        "colab": {
          "base_uri": "https://localhost:8080/",
          "height": 513
        },
        "id": "bX4ahOyPL1kd",
        "outputId": "90119afa-726d-4a69-9b59-20a8ae1ddbda"
      },
      "execution_count": 9,
      "outputs": [
        {
          "output_type": "display_data",
          "data": {
            "image/png": "[encoded data removed]",
            "text/plain": [
              "<Figure size 576x576 with 1 Axes>"
            ]
          },
          "metadata": {
            "needs_background": "light"
          }
        }
      ]
    },
    {
      "cell_type": "markdown",
      "source": [
        "# Step 4: Save histograms as a .png."
      ],
      "metadata": {
        "id": "7P01ogDMBVjo"
      }
    },
    {
      "cell_type": "markdown",
      "source": [
        "Click on the vertical three dots next to the saved histogram plots and click 'download'. Will save to your computer.\n",
        "\n",
        "Need to download asap because the whole thing is reset in google colab after you end each runtime."
      ],
      "metadata": {
        "id": "3jpInsN6NlKI"
      }
    },
    {
      "cell_type": "markdown",
      "source": [
        "# Step 5: Plot the scatter graph with line of best fit and equation"
      ],
      "metadata": {
        "id": "TzfgKym1Ba3-"
      }
    },
    {
      "cell_type": "markdown",
      "source": [
        "Plot a scatter graph, with a line of best fit and information on the line equation (gradient, intercept, etc.)\n",
        "\n",
        "There is also a regression test of the r-squared value, or 'coefficient of determination', explaining how well of a fit a linear regression model is for the data, and what percentage of variation in the y-values can be explained by x-values. Ranges from 0-1.\n",
        "\n",
        "> E.g. if R-squared is 0.32, it is closer to 0 than 1. This implies that a linear regression line may not be the best fit for the data. It also suggests that approximately 32% of variation in 'y' can be explained by 'x'. It is likely that several other factors also may be related to 'y'.\n",
        "\n",
        "However it assumes normal distribution and is sensitive to outliers so we will need to do the Spearman's rank test as well.\n",
        "Spearman's rank is good because it does NOT assume the data is a linear pattern while R-Squared does."
      ],
      "metadata": {
        "id": "xQ5wOf28OGe2"
      }
    },
    {
      "cell_type": "code",
      "source": [
        "import statsmodels.api as sms\n",
        "import numpy as np\n",
        "\n",
        "# These lines extract the y-values and the x-values from the data:\n",
        "\n",
        "x_values = df['x-values']\n",
        "y_values = df['y-values']\n",
        "\n",
        "# These lines perform the regression procedure:\n",
        "\n",
        "X_values = sms.add_constant(x_values)\n",
        "regression_model_a = sms.OLS(y_values, X_values)\n",
        "regression_model_b = regression_model_a.fit()\n",
        "# and print a summary of the results:\n",
        "print(regression_model_b.summary())\n",
        "print() # blank line\n",
        "\n",
        "# Now we store all the relevant values:\n",
        "\n",
        "gradient  = regression_model_b.params[1]\n",
        "intercept = regression_model_b.params[0]\n",
        "Rsquared  = regression_model_b.rsquared\n",
        "MSE       = regression_model_b.mse_resid\n",
        "pvalue    = regression_model_b.f_pvalue\n",
        "\n",
        "# And print them:\n",
        "\n",
        "print(\"gradient  =\", regression_model_b.params[1])\n",
        "print(\"intercept =\", regression_model_b.params[0])\n",
        "print(\"Rsquared  =\", regression_model_b.rsquared)\n",
        "print(\"MSE       =\", regression_model_b.mse_resid)\n",
        "print(\"pvalue    =\", regression_model_b.f_pvalue)\n",
        "\n",
        "# This line creates the endpoints of the best-fit line:\n",
        "x_lobf = [min(x_values),max(x_values)]\n",
        "y_lobf = [x_lobf[0]*gradient + intercept,x_lobf[1]*gradient + intercept]\n",
        "\n",
        "# This line creates the figure. \n",
        "figure_width, figure_height = 10,10\n",
        "plt.figure(figsize=(figure_width,figure_height))\n",
        "\n",
        "# Uncomment these lines (remove the #) to set the axis limits (otherwise they will be set automatically):\n",
        "#sometimes worth to fiddle with because if x_min isn't 0, the y axis is not drawn at x=0 \n",
        "#might mean intercept looks like it doesn't match with the drawn plot\n",
        "#x_min,x_max = 0,100\n",
        "#y_min,y_max = 0,100\n",
        "#plt.xlim([x_min,x_max])\n",
        "#plt.ylim([y_min,y_max])\n",
        "\n",
        "# The next lines create and save the plot:\n",
        "#Modify the title and axis labels to whatever you want. Include as much info as possible e.g. country and date\n",
        "plt.plot(x_values,y_values,'b.',x_lobf,y_lobf,'r--')\n",
        "plt.title('Graph to show the comparison of US County Sexual Health Clinic Density and Percentage of Republican Votes ')\n",
        "plt.xlabel('Percentage of Republican Votes, 2016')\n",
        "plt.ylabel('Sexual Health Clinic Density, per 1000 sqmiles, 2015')\n",
        "\n",
        "#Save the graph in the data file on the left\n",
        "\n",
        "plot_filename = '/content/plots/republican_scatterplot.png'\n",
        "plt.savefig(plot_filename)\n",
        "\n",
        "#print the equation of the regression line\n",
        "print('Regression Line Equation: y=',gradient,'x+(',intercept,')')"
      ],
      "metadata": {
        "colab": {
          "base_uri": "https://localhost:8080/",
          "height": 1000
        },
        "id": "RW5Ca4n4OSZ-",
        "outputId": "d60fbe88-d185-434c-cb52-b55e1e82a9f7"
      },
      "execution_count": 22,
      "outputs": [
        {
          "output_type": "stream",
          "name": "stdout",
          "text": [
            "                            OLS Regression Results                            \n",
            "==============================================================================\n",
            "Dep. Variable:               y-values   R-squared:                       0.057\n",
            "Model:                            OLS   Adj. R-squared:                  0.056\n",
            "Method:                 Least Squares   F-statistic:                     172.5\n",
            "Date:                Wed, 05 Jan 2022   Prob (F-statistic):           2.58e-38\n",
            "Time:                        15:49:07   Log-Likelihood:                -7042.1\n",
            "No. Observations:                2877   AIC:                         1.409e+04\n",
            "Df Residuals:                    2875   BIC:                         1.410e+04\n",
            "Df Model:                           1                                         \n",
            "Covariance Type:            nonrobust                                         \n",
            "==============================================================================\n",
            "                 coef    std err          t      P>|t|      [0.025      0.975]\n",
            "------------------------------------------------------------------------------\n",
            "const          6.1937      0.246     25.176      0.000       5.711       6.676\n",
            "x-values      -0.0484      0.004    -13.135      0.000      -0.056      -0.041\n",
            "==============================================================================\n",
            "Omnibus:                      424.581   Durbin-Watson:                   1.281\n",
            "Prob(Omnibus):                  0.000   Jarque-Bera (JB):              633.202\n",
            "Skew:                           1.079   Prob(JB):                    3.18e-138\n",
            "Kurtosis:                       3.791   Cond. No.                         315.\n",
            "==============================================================================\n",
            "\n",
            "Warnings:\n",
            "[1] Standard Errors assume that the covariance matrix of the errors is correctly specified.\n",
            "\n",
            "gradient  = -0.04838204331983648\n",
            "intercept = 6.193720529033444\n",
            "Rsquared  = 0.056611936584627265\n",
            "MSE       = 7.8322193104833255\n",
            "pvalue    = 2.5767126678932756e-38\n",
            "Regression Line Equation: y= -0.04838204331983648 x+( 6.193720529033444 )\n"
          ]
        },
        {
          "output_type": "display_data",
          "data": {
            "image/png": "[encoded data removed]",
            "text/plain": [
              "<Figure size 720x720 with 1 Axes>"
            ]
          },
          "metadata": {
            "needs_background": "light"
          }
        }
      ]
    },
    {
      "cell_type": "markdown",
      "source": [
        "# Step 6: Save scatter plot as .png"
      ],
      "metadata": {
        "id": "iVLqysaZBbWu"
      }
    },
    {
      "cell_type": "markdown",
      "source": [
        "Download the scatterplot png using three vertical dots on the left.\n",
        "\n",
        "Make a note of the line equation, and 'clean' it up i.e by changing values to 2.d.p./3.s.f. \n",
        "\n",
        "\n",
        "> E.g. example output of 'Regression Line Equation: y= -0.6148696202279116 x+( 71.00870489069794 )' can be cleaned up as **'Equation: y= -0.61x + 71.01'**\n",
        "\n",
        "You can also interpret the equation in a real world context\n",
        "> e.g. For every factor 10 x increases, the y value decreases (because negative gradient) by approximately 6.1 times.\n",
        "\n"
      ],
      "metadata": {
        "id": "U2C2KsoVXbQA"
      }
    },
    {
      "cell_type": "markdown",
      "source": [
        "# Step 7: Perform spearman's rank correlation test"
      ],
      "metadata": {
        "id": "YH_JZ1asBbdZ"
      }
    },
    {
      "cell_type": "markdown",
      "source": [
        " Spearman's rank correlation coefficient is good because it does not assume a linear relationship, and is stronger against outliers than other tests. This is because it compares data ranks than the pure numbers, so this is the statistical test we will use for our regression analysis."
      ],
      "metadata": {
        "id": "85hUE6LEZx0o"
      }
    },
    {
      "cell_type": "code",
      "source": [
        "#the test will give a matrix, i.e. correlation of each factor against each factor. \n",
        "#We just need the value for x against y, so note this down\n",
        "df.corr(method='spearman')"
      ],
      "metadata": {
        "colab": {
          "base_uri": "https://localhost:8080/",
          "height": 112
        },
        "id": "ZN8ptpGFaUgN",
        "outputId": "c0288fd2-e5c4-4f51-f546-8012fe178132"
      },
      "execution_count": 23,
      "outputs": [
        {
          "output_type": "execute_result",
          "data": {
            "text/html": [
              "\n",
              "  <div id=\"df-d41180a9-6ddc-4d8b-b3b3-96473e4d721f\">\n",
              "    <div class=\"colab-df-container\">\n",
              "      <div>\n",
              "<style scoped>\n",
              "    .dataframe tbody tr th:only-of-type {\n",
              "        vertical-align: middle;\n",
              "    }\n",
              "\n",
              "    .dataframe tbody tr th {\n",
              "        vertical-align: top;\n",
              "    }\n",
              "\n",
              "    .dataframe thead th {\n",
              "        text-align: right;\n",
              "    }\n",
              "</style>\n",
              "<table border=\"1\" class=\"dataframe\">\n",
              "  <thead>\n",
              "    <tr style=\"text-align: right;\">\n",
              "      <th></th>\n",
              "      <th>x-values</th>\n",
              "      <th>y-values</th>\n",
              "    </tr>\n",
              "  </thead>\n",
              "  <tbody>\n",
              "    <tr>\n",
              "      <th>x-values</th>\n",
              "      <td>1.00000</td>\n",
              "      <td>-0.26257</td>\n",
              "    </tr>\n",
              "    <tr>\n",
              "      <th>y-values</th>\n",
              "      <td>-0.26257</td>\n",
              "      <td>1.00000</td>\n",
              "    </tr>\n",
              "  </tbody>\n",
              "</table>\n",
              "</div>\n",
              "      <button class=\"colab-df-convert\" onclick=\"convertToInteractive('df-d41180a9-6ddc-4d8b-b3b3-96473e4d721f')\"\n",
              "              title=\"Convert this dataframe to an interactive table.\"\n",
              "              style=\"display:none;\">\n",
              "        \n",
              "  <svg xmlns=\"http://www.w3.org/2000/svg\" height=\"24px\"viewBox=\"0 0 24 24\"\n",
              "       width=\"24px\">\n",
              "    <path d=\"M0 0h24v24H0V0z\" fill=\"none\"/>\n",
              "    <path d=\"M18.56 5.44l.94 2.06.94-2.06 2.06-.94-2.06-.94-.94-2.06-.94 2.06-2.06.94zm-11 1L8.5 8.5l.94-2.06 2.06-.94-2.06-.94L8.5 2.5l-.94 2.06-2.06.94zm10 10l.94 2.06.94-2.06 2.06-.94-2.06-.94-.94-2.06-.94 2.06-2.06.94z\"/><path d=\"M17.41 7.96l-1.37-1.37c-.4-.4-.92-.59-1.43-.59-.52 0-1.04.2-1.43.59L10.3 9.45l-7.72 7.72c-.78.78-.78 2.05 0 2.83L4 21.41c.39.39.9.59 1.41.59.51 0 1.02-.2 1.41-.59l7.78-7.78 2.81-2.81c.8-.78.8-2.07 0-2.86zM5.41 20L4 18.59l7.72-7.72 1.47 1.35L5.41 20z\"/>\n",
              "  </svg>\n",
              "      </button>\n",
              "      \n",
              "  <style>\n",
              "    .colab-df-container {\n",
              "      display:flex;\n",
              "      flex-wrap:wrap;\n",
              "      gap: 12px;\n",
              "    }\n",
              "\n",
              "    .colab-df-convert {\n",
              "      background-color: #E8F0FE;\n",
              "      border: none;\n",
              "      border-radius: 50%;\n",
              "      cursor: pointer;\n",
              "      display: none;\n",
              "      fill: #1967D2;\n",
              "      height: 32px;\n",
              "      padding: 0 0 0 0;\n",
              "      width: 32px;\n",
              "    }\n",
              "\n",
              "    .colab-df-convert:hover {\n",
              "      background-color: #E2EBFA;\n",
              "      box-shadow: 0px 1px 2px rgba(60, 64, 67, 0.3), 0px 1px 3px 1px rgba(60, 64, 67, 0.15);\n",
              "      fill: #174EA6;\n",
              "    }\n",
              "\n",
              "    [theme=dark] .colab-df-convert {\n",
              "      background-color: #3B4455;\n",
              "      fill: #D2E3FC;\n",
              "    }\n",
              "\n",
              "    [theme=dark] .colab-df-convert:hover {\n",
              "      background-color: #434B5C;\n",
              "      box-shadow: 0px 1px 3px 1px rgba(0, 0, 0, 0.15);\n",
              "      filter: drop-shadow(0px 1px 2px rgba(0, 0, 0, 0.3));\n",
              "      fill: #FFFFFF;\n",
              "    }\n",
              "  </style>\n",
              "\n",
              "      <script>\n",
              "        const buttonEl =\n",
              "          document.querySelector('#df-d41180a9-6ddc-4d8b-b3b3-96473e4d721f button.colab-df-convert');\n",
              "        buttonEl.style.display =\n",
              "          google.colab.kernel.accessAllowed ? 'block' : 'none';\n",
              "\n",
              "        async function convertToInteractive(key) {\n",
              "          const element = document.querySelector('#df-d41180a9-6ddc-4d8b-b3b3-96473e4d721f');\n",
              "          const dataTable =\n",
              "            await google.colab.kernel.invokeFunction('convertToInteractive',\n",
              "                                                     [key], {});\n",
              "          if (!dataTable) return;\n",
              "\n",
              "          const docLinkHtml = 'Like what you see? Visit the ' +\n",
              "            '<a target=\"_blank\" href=https://colab.research.google.com/notebooks/data_table.ipynb>data table notebook</a>'\n",
              "            + ' to learn more about interactive tables.';\n",
              "          element.innerHTML = '';\n",
              "          dataTable['output_type'] = 'display_data';\n",
              "          await google.colab.output.renderOutput(dataTable, element);\n",
              "          const docLink = document.createElement('div');\n",
              "          docLink.innerHTML = docLinkHtml;\n",
              "          element.appendChild(docLink);\n",
              "        }\n",
              "      </script>\n",
              "    </div>\n",
              "  </div>\n",
              "  "
            ],
            "text/plain": [
              "          x-values  y-values\n",
              "x-values   1.00000  -0.26257\n",
              "y-values  -0.26257   1.00000"
            ]
          },
          "metadata": {},
          "execution_count": 23
        }
      ]
    },
    {
      "cell_type": "markdown",
      "source": [
        "# Step 8: Record statistical value (Ρ/Spearman's rho) in a table with the values of the other factors"
      ],
      "metadata": {
        "id": "mu-m81aLBblC"
      }
    },
    {
      "cell_type": "markdown",
      "source": [
        "Note down the spearman's rank coefficient and for which factor it is for in relation to clinic access.\n",
        "\n",
        "Interpret the coefficient, and give it a real world context.\n",
        "The value can be between +1 and -1. +1 Indicates a perfect positive association of ranks, -1 a perfect negative association/correlation, and 0 indicates no association. The closer to 0, the weaker the association."
      ],
      "metadata": {
        "id": "KOoULXClkvhC"
      }
    },
    {
      "cell_type": "markdown",
      "source": [
        "# Step 9: Spearman's hypothesis test\n",
        "\n",
        "This is to test whether the realtionship/correlation found using the spearman test is a significant result.\n",
        "\n",
        "(Even if results aren't significant, it's always worth still reporting them than 'hiding' them, so we can still put them on our website!)\n",
        "\n",
        "Note down the results so we can report them."
      ],
      "metadata": {
        "id": "mf-L3wz4nPFE"
      }
    },
    {
      "cell_type": "markdown",
      "source": [
        "## Hypothesis test:\n",
        "\n",
        "> Significance level 5%\n",
        "\n",
        "> Null hypothesis (H0): Correlation is insignificant\n",
        "\n",
        "> Alternate hypothesis (H1): Correlation is significant\n",
        "\n",
        "Failure to reject null hypothesis if p>0.05."
      ],
      "metadata": {
        "id": "PKH3qCEFoPox"
      }
    },
    {
      "cell_type": "code",
      "source": [
        "#here's the code that will provide the p value (it will also give us the already calculated rho value)\n",
        "\n",
        "from scipy.stats import spearmanr\n",
        "\n",
        "coef, p = spearmanr(x_values, y_values)\n",
        "\n",
        "#rho/correlation coefficient, check the same as previously\n",
        "\n",
        "print('Spearmans correlation coefficient: %.3f' % coef)\n",
        "print('The p-value to test:',p)\n",
        "\n",
        "#hypothesis test with p-value\n",
        "\n",
        "alpha = 0.05\n",
        "if p > alpha:\n",
        "\tprint('Results are insignificant (fail to reject H0) p=%.10f' % p)\n",
        "else:\n",
        "\tprint('Results are significant (reject H0) p=%.10f' % p)"
      ],
      "metadata": {
        "colab": {
          "base_uri": "https://localhost:8080/"
        },
        "id": "qELLu39rpY3k",
        "outputId": "d4baf3d2-50f0-42c8-ca3c-da8bec456747"
      },
      "execution_count": 24,
      "outputs": [
        {
          "output_type": "stream",
          "name": "stdout",
          "text": [
            "Spearmans correlation coefficient: -0.263\n",
            "The p-value to test: 1.427968172130212e-46\n",
            "Results are significant (reject H0) p=0.0000000000\n"
          ]
        }
      ]
    }
  ]
}